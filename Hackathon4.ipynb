{
  "nbformat": 4,
  "nbformat_minor": 0,
  "metadata": {
    "colab": {
      "provenance": [],
      "gpuType": "L4",
      "authorship_tag": "ABX9TyOYKFf2z5wS0At0SoyG6i85",
      "include_colab_link": true
    },
    "kernelspec": {
      "name": "python3",
      "display_name": "Python 3"
    },
    "language_info": {
      "name": "python"
    },
    "accelerator": "GPU"
  },
  "cells": [
    {
      "cell_type": "markdown",
      "metadata": {
        "id": "view-in-github",
        "colab_type": "text"
      },
      "source": [
        "<a href=\"https://colab.research.google.com/github/odarrieta/odarrieta/blob/main/Hackathon4.ipynb\" target=\"_parent\"><img src=\"https://colab.research.google.com/assets/colab-badge.svg\" alt=\"Open In Colab\"/></a>"
      ]
    },
    {
      "cell_type": "code",
      "execution_count": null,
      "metadata": {
        "colab": {
          "base_uri": "https://localhost:8080/"
        },
        "id": "bexKHwzw-z7t",
        "outputId": "5bbc560d-4b37-4d9c-d0a0-131a2c7549eb"
      },
      "outputs": [
        {
          "output_type": "stream",
          "name": "stdout",
          "text": [
            "Requirement already satisfied: xgboost in /usr/local/lib/python3.10/dist-packages (2.0.3)\n",
            "Requirement already satisfied: numpy in /usr/local/lib/python3.10/dist-packages (from xgboost) (1.25.2)\n",
            "Requirement already satisfied: scipy in /usr/local/lib/python3.10/dist-packages (from xgboost) (1.11.4)\n"
          ]
        }
      ],
      "source": [
        "!pip install xgboost\n"
      ]
    },
    {
      "cell_type": "code",
      "source": [
        "from google.colab import drive\n",
        "drive.mount('/content/drive')"
      ],
      "metadata": {
        "colab": {
          "base_uri": "https://localhost:8080/"
        },
        "id": "-2gMN8rB3jTj",
        "outputId": "2d2607c5-43c7-4337-a340-da474a92197f"
      },
      "execution_count": null,
      "outputs": [
        {
          "output_type": "stream",
          "name": "stdout",
          "text": [
            "Mounted at /content/drive\n"
          ]
        }
      ]
    },
    {
      "cell_type": "code",
      "source": [
        "import pandas as pd\n",
        "\n",
        "# Cargar los datos de entrenamiento y prueba\n",
        "survey_train = pd.read_csv('/content/drive/MyDrive/Colab Notebooks/Hachathon/Surveydata_train.csv')\n",
        "travel_train = pd.read_csv('/content/drive/MyDrive/Colab Notebooks/Hachathon/Traveldata_train.csv')\n",
        "survey_test = pd.read_csv('/content/drive/MyDrive/Colab Notebooks/Hachathon/Surveydata_test.csv')\n",
        "travel_test = pd.read_csv('/content/drive/MyDrive/Colab Notebooks/Hachathon/Traveldata_test.csv')\n",
        "\n",
        "# Combinar los datos de entrenamiento y prueba usando la columna ID como clave\n",
        "train_data = pd.merge(survey_train, travel_train, on='ID')\n",
        "test_data = pd.merge(survey_test, travel_test, on='ID')\n",
        "\n",
        "# Mostrar las primeras filas de los datos combinados\n",
        "print(train_data.head())\n",
        "print(test_data.head())\n"
      ],
      "metadata": {
        "colab": {
          "base_uri": "https://localhost:8080/"
        },
        "id": "tqvsDxTF7jmp",
        "outputId": "f98c8529-f901-4c26-8a73-6b7177bb6121"
      },
      "execution_count": null,
      "outputs": [
        {
          "output_type": "stream",
          "name": "stdout",
          "text": [
            "         ID  Overall_Experience       Seat_Comfort Seat_Class  \\\n",
            "0  98800001                   0  Needs Improvement  Green Car   \n",
            "1  98800002                   0               Poor   Ordinary   \n",
            "2  98800003                   1  Needs Improvement  Green Car   \n",
            "3  98800004                   0         Acceptable   Ordinary   \n",
            "4  98800005                   1         Acceptable   Ordinary   \n",
            "\n",
            "  Arrival_Time_Convenient           Catering  Platform_Location  \\\n",
            "0               Excellent          Excellent    Very Convenient   \n",
            "1               Excellent               Poor  Needs Improvement   \n",
            "2       Needs Improvement  Needs Improvement  Needs Improvement   \n",
            "3       Needs Improvement                NaN  Needs Improvement   \n",
            "4              Acceptable         Acceptable         Manageable   \n",
            "\n",
            "  Onboard_Wifi_Service Onboard_Entertainment Online_Support  ...  \\\n",
            "0                 Good     Needs Improvement     Acceptable  ...   \n",
            "1                 Good                  Poor           Good  ...   \n",
            "2    Needs Improvement                  Good      Excellent  ...   \n",
            "3           Acceptable     Needs Improvement     Acceptable  ...   \n",
            "4    Needs Improvement                  Good      Excellent  ...   \n",
            "\n",
            "         Cleanliness Online_Boarding  Gender   Customer_Type   Age  \\\n",
            "0  Needs Improvement            Poor  Female  Loyal Customer  52.0   \n",
            "1               Good            Good    Male  Loyal Customer  48.0   \n",
            "2          Excellent       Excellent  Female  Loyal Customer  43.0   \n",
            "3         Acceptable      Acceptable  Female  Loyal Customer  44.0   \n",
            "4               Good            Good  Female  Loyal Customer  50.0   \n",
            "\n",
            "       Type_Travel Travel_Class Travel_Distance Departure_Delay_in_Mins  \\\n",
            "0              NaN     Business             272                     0.0   \n",
            "1  Personal Travel          Eco            2200                     9.0   \n",
            "2  Business Travel     Business            1061                    77.0   \n",
            "3  Business Travel     Business             780                    13.0   \n",
            "4  Business Travel     Business            1981                     0.0   \n",
            "\n",
            "   Arrival_Delay_in_Mins  \n",
            "0                    5.0  \n",
            "1                    0.0  \n",
            "2                  119.0  \n",
            "3                   18.0  \n",
            "4                    0.0  \n",
            "\n",
            "[5 rows x 25 columns]\n",
            "         ID    Seat_Comfort Seat_Class Arrival_Time_Convenient    Catering  \\\n",
            "0  99900001      Acceptable  Green Car              Acceptable  Acceptable   \n",
            "1  99900002  Extremely Poor   Ordinary                    Good        Poor   \n",
            "2  99900003       Excellent   Ordinary               Excellent   Excellent   \n",
            "3  99900004      Acceptable  Green Car               Excellent  Acceptable   \n",
            "4  99900005       Excellent   Ordinary          Extremely Poor   Excellent   \n",
            "\n",
            "   Platform_Location Onboard_Wifi_Service Onboard_Entertainment  \\\n",
            "0         Manageable    Needs Improvement             Excellent   \n",
            "1         Manageable           Acceptable                  Poor   \n",
            "2    Very Convenient            Excellent             Excellent   \n",
            "3    Very Convenient                 Poor            Acceptable   \n",
            "4  Needs Improvement            Excellent             Excellent   \n",
            "\n",
            "  Online_Support Ease_of_Online_Booking  ...        Cleanliness  \\\n",
            "0           Good              Excellent  ...          Excellent   \n",
            "1     Acceptable             Acceptable  ...          Excellent   \n",
            "2      Excellent      Needs Improvement  ...  Needs Improvement   \n",
            "3      Excellent                   Poor  ...          Excellent   \n",
            "4      Excellent              Excellent  ...          Excellent   \n",
            "\n",
            "  Online_Boarding  Gender      Customer_Type   Age      Type_Travel  \\\n",
            "0            Poor  Female                NaN  36.0  Business Travel   \n",
            "1      Acceptable  Female  Disloyal Customer  21.0  Business Travel   \n",
            "2       Excellent    Male     Loyal Customer  60.0  Business Travel   \n",
            "3            Poor  Female     Loyal Customer  29.0  Personal Travel   \n",
            "4       Excellent    Male  Disloyal Customer  18.0  Business Travel   \n",
            "\n",
            "  Travel_Class Travel_Distance  Departure_Delay_in_Mins Arrival_Delay_in_Mins  \n",
            "0     Business             532                      0.0                   0.0  \n",
            "1     Business            1425                      9.0                  28.0  \n",
            "2     Business            2832                      0.0                   0.0  \n",
            "3          Eco            1352                      0.0                   0.0  \n",
            "4     Business            1610                     17.0                   0.0  \n",
            "\n",
            "[5 rows x 24 columns]\n"
          ]
        }
      ]
    },
    {
      "cell_type": "code",
      "source": [
        "from sklearn.preprocessing import StandardScaler, OrdinalEncoder\n",
        "from sklearn.impute import SimpleImputer\n",
        "\n",
        "# Imputar valores faltantes para variables numéricas y categóricas\n",
        "num_imputer = SimpleImputer(strategy='median')\n",
        "cat_imputer = SimpleImputer(strategy='most_frequent')\n",
        "\n",
        "# Listar columnas numéricas y categóricas\n",
        "num_cols = train_data.select_dtypes(include=['float64', 'int64']).columns.drop('Overall_Experience')\n",
        "cat_cols = train_data.select_dtypes(include=['object']).columns\n",
        "\n",
        "# Ajustar imputadores solo a las columnas correctas\n",
        "num_imputer.fit(train_data[num_cols])\n",
        "cat_imputer.fit(train_data[cat_cols])\n",
        "\n",
        "# Imputar valores faltantes en los datos de entrenamiento\n",
        "train_data[num_cols] = num_imputer.transform(train_data[num_cols])\n",
        "train_data[cat_cols] = cat_imputer.transform(train_data[cat_cols])\n",
        "\n",
        "# Codificar variables categóricas con un codificador personalizado\n",
        "class CustomLabelEncoder:\n",
        "    def __init__(self):\n",
        "        self.encoder = OrdinalEncoder(handle_unknown='use_encoded_value', unknown_value=-1)\n",
        "\n",
        "    def fit(self, data):\n",
        "        self.encoder.fit(data)\n",
        "\n",
        "    def transform(self, data):\n",
        "        return self.encoder.transform(data)\n",
        "\n",
        "    def fit_transform(self, data):\n",
        "        self.encoder.fit(data)\n",
        "        return self.encoder.transform(data)\n",
        "\n",
        "custom_encoders = {}\n",
        "for col in cat_cols:\n",
        "    custom_encoders[col] = CustomLabelEncoder()\n",
        "    train_data[col] = custom_encoders[col].fit_transform(train_data[[col]])\n",
        "\n",
        "# Escalar características numéricas\n",
        "scaler = StandardScaler()\n",
        "scaler.fit(train_data[num_cols])\n",
        "train_data[num_cols] = scaler.transform(train_data[num_cols])\n",
        "\n",
        "# Mostrar las primeras filas de los datos preprocesados de entrenamiento\n",
        "print(train_data.head())\n"
      ],
      "metadata": {
        "colab": {
          "base_uri": "https://localhost:8080/"
        },
        "id": "4tvd4rgF75eU",
        "outputId": "bce87609-d091-497f-aa50-ebc81dd97887"
      },
      "execution_count": null,
      "outputs": [
        {
          "output_type": "stream",
          "name": "stdout",
          "text": [
            "         ID  Overall_Experience  Seat_Comfort  Seat_Class  \\\n",
            "0 -1.732032                   0           4.0         0.0   \n",
            "1 -1.731996                   0           5.0         1.0   \n",
            "2 -1.731959                   1           4.0         0.0   \n",
            "3 -1.731922                   0           0.0         1.0   \n",
            "4 -1.731886                   1           0.0         1.0   \n",
            "\n",
            "   Arrival_Time_Convenient  Catering  Platform_Location  Onboard_Wifi_Service  \\\n",
            "0                      1.0       1.0                4.0                   3.0   \n",
            "1                      1.0       5.0                3.0                   3.0   \n",
            "2                      4.0       4.0                3.0                   4.0   \n",
            "3                      4.0       0.0                3.0                   0.0   \n",
            "4                      0.0       0.0                2.0                   4.0   \n",
            "\n",
            "   Onboard_Entertainment  Online_Support  ...  Cleanliness  Online_Boarding  \\\n",
            "0                    4.0             0.0  ...          4.0              5.0   \n",
            "1                    5.0             3.0  ...          3.0              3.0   \n",
            "2                    3.0             1.0  ...          1.0              1.0   \n",
            "3                    4.0             0.0  ...          0.0              0.0   \n",
            "4                    3.0             1.0  ...          3.0              3.0   \n",
            "\n",
            "   Gender  Customer_Type       Age  Type_Travel  Travel_Class  \\\n",
            "0     0.0            1.0  0.832356          0.0           0.0   \n",
            "1     1.0            1.0  0.567699          1.0           1.0   \n",
            "2     0.0            1.0  0.236878          0.0           0.0   \n",
            "3     0.0            1.0  0.303042          0.0           0.0   \n",
            "4     0.0            1.0  0.700027          0.0           0.0   \n",
            "\n",
            "   Travel_Distance  Departure_Delay_in_Mins  Arrival_Delay_in_Mins  \n",
            "0        -1.660469                -0.383916              -0.259227  \n",
            "1         0.215099                -0.147874              -0.389511  \n",
            "2        -0.892926                 1.635557               2.711265  \n",
            "3        -1.166284                -0.042966               0.079514  \n",
            "4         0.002054                -0.383916              -0.389511  \n",
            "\n",
            "[5 rows x 25 columns]\n"
          ]
        }
      ]
    },
    {
      "cell_type": "code",
      "source": [
        "# Guardar los IDs originales\n",
        "test_ids = test_data['ID']\n",
        "\n",
        "# Imputar y codificar variables categóricas en los datos de prueba\n",
        "test_data[num_cols] = num_imputer.transform(test_data[num_cols])\n",
        "test_data[cat_cols] = cat_imputer.transform(test_data[cat_cols])\n",
        "for col in cat_cols:\n",
        "    test_data[col] = custom_encoders[col].transform(test_data[[col]])\n",
        "\n",
        "# Reemplazar valores -1 en las columnas categóricas por la moda de cada columna\n",
        "for col in cat_cols:\n",
        "    mode_value = train_data[col].mode()[0]\n",
        "    test_data[col] = test_data[col].replace(-1, mode_value)\n",
        "\n",
        "# Escalar características numéricas en los datos de prueba\n",
        "test_data[num_cols] = scaler.transform(test_data[num_cols])\n",
        "\n",
        "# Mostrar las primeras filas de los datos preprocesados de prueba\n",
        "print(test_data.head())\n"
      ],
      "metadata": {
        "colab": {
          "base_uri": "https://localhost:8080/"
        },
        "id": "lAMmyhFy78Ud",
        "outputId": "4fa62712-d829-461c-907c-a97e9439c307"
      },
      "execution_count": null,
      "outputs": [
        {
          "output_type": "stream",
          "name": "stdout",
          "text": [
            "          ID  Seat_Comfort  Seat_Class  Arrival_Time_Convenient  Catering  \\\n",
            "0  38.642540           0.0         0.0                      0.0       0.0   \n",
            "1  38.642577           2.0         1.0                      3.0       5.0   \n",
            "2  38.642613           1.0         1.0                      1.0       1.0   \n",
            "3  38.642650           0.0         0.0                      1.0       0.0   \n",
            "4  38.642687           1.0         1.0                      2.0       1.0   \n",
            "\n",
            "   Platform_Location  Onboard_Wifi_Service  Onboard_Entertainment  \\\n",
            "0                2.0                   4.0                    1.0   \n",
            "1                2.0                   0.0                    5.0   \n",
            "2                4.0                   1.0                    1.0   \n",
            "3                4.0                   5.0                    0.0   \n",
            "4                3.0                   1.0                    1.0   \n",
            "\n",
            "   Online_Support  Ease_of_Online_Booking  ...  Cleanliness  Online_Boarding  \\\n",
            "0             3.0                     1.0  ...          1.0              5.0   \n",
            "1             0.0                     0.0  ...          1.0              0.0   \n",
            "2             1.0                     4.0  ...          4.0              1.0   \n",
            "3             1.0                     5.0  ...          1.0              5.0   \n",
            "4             1.0                     1.0  ...          1.0              1.0   \n",
            "\n",
            "   Gender  Customer_Type       Age  Type_Travel  Travel_Class  \\\n",
            "0     0.0            1.0 -0.226272          0.0           0.0   \n",
            "1     0.0            0.0 -1.218735          0.0           0.0   \n",
            "2     1.0            1.0  1.361669          0.0           0.0   \n",
            "3     0.0            1.0 -0.689421          1.0           1.0   \n",
            "4     1.0            0.0 -1.417227          0.0           0.0   \n",
            "\n",
            "   Travel_Distance  Departure_Delay_in_Mins  Arrival_Delay_in_Mins  \n",
            "0        -1.407540                -0.383916              -0.389511  \n",
            "1        -0.538825                -0.147874               0.340083  \n",
            "2         0.829911                -0.383916              -0.389511  \n",
            "3        -0.609840                -0.383916              -0.389511  \n",
            "4        -0.358856                 0.061942              -0.389511  \n",
            "\n",
            "[5 rows x 24 columns]\n"
          ]
        }
      ]
    },
    {
      "cell_type": "code",
      "source": [
        "from xgboost import XGBClassifier\n",
        "from sklearn.model_selection import RandomizedSearchCV\n",
        "\n",
        "# Definir el modelo de XGBoost\n",
        "xgb_model = XGBClassifier(random_state=42, use_label_encoder=False, eval_metric='logloss')\n",
        "\n",
        "# Definir la rejilla de parámetros para el ajuste de hiperparámetros\n",
        "param_dist = {\n",
        "    'n_estimators': [100, 200, 300],\n",
        "    'max_depth': [3, 6, 9],\n",
        "    'learning_rate': [0.01, 0.1, 0.2],\n",
        "    'subsample': [0.7, 0.8, 0.9, 1.0],\n",
        "    'colsample_bytree': [0.7, 0.8, 0.9, 1.0],\n",
        "    'gamma': [0, 0.1, 0.2],\n",
        "    'reg_alpha': [0, 0.1, 0.5],\n",
        "    'reg_lambda': [1, 1.5, 2]\n",
        "}\n",
        "X = train_data.drop(columns=['Overall_Experience', 'ID'])\n",
        "y = train_data['Overall_Experience']\n",
        "\n",
        "# Configurar RandomizedSearchCV\n",
        "random_search = RandomizedSearchCV(estimator=xgb_model, param_distributions=param_dist, n_iter=50, cv=3, n_jobs=-1, verbose=2, random_state=42)\n",
        "\n",
        "# Ajustar RandomizedSearchCV al conjunto de datos\n",
        "random_search.fit(X, y)\n",
        "\n",
        "# Mejor combinación de parámetros\n",
        "best_params = random_search.best_params_\n",
        "print(\"Mejores parámetros:\", best_params)\n",
        "\n",
        "# Entrenar el modelo optimizado\n",
        "optimized_xgb_model = XGBClassifier(**best_params, random_state=42, use_label_encoder=False, eval_metric='logloss')\n",
        "optimized_xgb_model.fit(X, y)\n",
        "\n",
        "# Generar predicciones en los datos de prueba\n",
        "X_test = test_data.drop(columns=['ID'])\n",
        "test_data['Overall_Experience'] = optimized_xgb_model.predict(X_test)\n",
        "\n",
        "# Crear el archivo de envío con los IDs originales\n",
        "submission = pd.DataFrame({'ID': test_ids, 'Overall_Experience': test_data['Overall_Experience'].astype(int)})\n",
        "submission.to_csv('submission_final_xgb.csv', index=False)\n",
        "\n",
        "# Mostrar las primeras filas del archivo de envío\n",
        "print(submission.head())\n"
      ],
      "metadata": {
        "colab": {
          "base_uri": "https://localhost:8080/"
        },
        "id": "sOxdhIyX_b50",
        "outputId": "9d3b1cbe-1a96-42ca-e6c6-98d599b3ab21"
      },
      "execution_count": null,
      "outputs": [
        {
          "output_type": "stream",
          "name": "stdout",
          "text": [
            "Fitting 3 folds for each of 50 candidates, totalling 150 fits\n",
            "Mejores parámetros: {'subsample': 0.9, 'reg_lambda': 1, 'reg_alpha': 0, 'n_estimators': 300, 'max_depth': 9, 'learning_rate': 0.1, 'gamma': 0.2, 'colsample_bytree': 0.7}\n",
            "         ID  Overall_Experience\n",
            "0  99900001                   1\n",
            "1  99900002                   1\n",
            "2  99900003                   1\n",
            "3  99900004                   0\n",
            "4  99900005                   1\n"
          ]
        }
      ]
    },
    {
      "cell_type": "code",
      "source": [
        "from google.colab import files\n",
        "\n",
        "# Asegúrate de que el nombre del archivo y la ruta sean correctos\n",
        "files.download('submission_final_xgb.csv')"
      ],
      "metadata": {
        "colab": {
          "base_uri": "https://localhost:8080/",
          "height": 17
        },
        "id": "Rq2awM_15Vsq",
        "outputId": "d8711d72-2c13-49f4-adc4-1437e7e81366"
      },
      "execution_count": null,
      "outputs": [
        {
          "output_type": "display_data",
          "data": {
            "text/plain": [
              "<IPython.core.display.Javascript object>"
            ],
            "application/javascript": [
              "\n",
              "    async function download(id, filename, size) {\n",
              "      if (!google.colab.kernel.accessAllowed) {\n",
              "        return;\n",
              "      }\n",
              "      const div = document.createElement('div');\n",
              "      const label = document.createElement('label');\n",
              "      label.textContent = `Downloading \"${filename}\": `;\n",
              "      div.appendChild(label);\n",
              "      const progress = document.createElement('progress');\n",
              "      progress.max = size;\n",
              "      div.appendChild(progress);\n",
              "      document.body.appendChild(div);\n",
              "\n",
              "      const buffers = [];\n",
              "      let downloaded = 0;\n",
              "\n",
              "      const channel = await google.colab.kernel.comms.open(id);\n",
              "      // Send a message to notify the kernel that we're ready.\n",
              "      channel.send({})\n",
              "\n",
              "      for await (const message of channel.messages) {\n",
              "        // Send a message to notify the kernel that we're ready.\n",
              "        channel.send({})\n",
              "        if (message.buffers) {\n",
              "          for (const buffer of message.buffers) {\n",
              "            buffers.push(buffer);\n",
              "            downloaded += buffer.byteLength;\n",
              "            progress.value = downloaded;\n",
              "          }\n",
              "        }\n",
              "      }\n",
              "      const blob = new Blob(buffers, {type: 'application/binary'});\n",
              "      const a = document.createElement('a');\n",
              "      a.href = window.URL.createObjectURL(blob);\n",
              "      a.download = filename;\n",
              "      div.appendChild(a);\n",
              "      a.click();\n",
              "      div.remove();\n",
              "    }\n",
              "  "
            ]
          },
          "metadata": {}
        },
        {
          "output_type": "display_data",
          "data": {
            "text/plain": [
              "<IPython.core.display.Javascript object>"
            ],
            "application/javascript": [
              "download(\"download_d2a4f26d-0abb-4da6-9eb5-ecd17240b9ca\", \"submission_final_xgb.csv\", 391644)"
            ]
          },
          "metadata": {}
        }
      ]
    }
  ]
}