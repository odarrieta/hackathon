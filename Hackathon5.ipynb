{
  "nbformat": 4,
  "nbformat_minor": 0,
  "metadata": {
    "colab": {
      "provenance": [],
      "gpuType": "L4",
      "include_colab_link": true
    },
    "kernelspec": {
      "name": "python3",
      "display_name": "Python 3"
    },
    "language_info": {
      "name": "python"
    },
    "accelerator": "GPU"
  },
  "cells": [
    {
      "cell_type": "markdown",
      "metadata": {
        "id": "view-in-github",
        "colab_type": "text"
      },
      "source": [
        "<a href=\"https://colab.research.google.com/github/odarrieta/odarrieta/blob/main/Hackathon5.ipynb\" target=\"_parent\"><img src=\"https://colab.research.google.com/assets/colab-badge.svg\" alt=\"Open In Colab\"/></a>"
      ]
    },
    {
      "cell_type": "code",
      "execution_count": 57,
      "metadata": {
        "colab": {
          "base_uri": "https://localhost:8080/"
        },
        "id": "bexKHwzw-z7t",
        "outputId": "716ff16b-e53b-4953-b66c-ba594ee53bdd"
      },
      "outputs": [
        {
          "output_type": "stream",
          "name": "stdout",
          "text": [
            "Requirement already satisfied: xgboost in /usr/local/lib/python3.10/dist-packages (2.0.3)\n",
            "Requirement already satisfied: numpy in /usr/local/lib/python3.10/dist-packages (from xgboost) (1.25.2)\n",
            "Requirement already satisfied: scipy in /usr/local/lib/python3.10/dist-packages (from xgboost) (1.11.4)\n"
          ]
        }
      ],
      "source": [
        "!pip install xgboost\n"
      ]
    },
    {
      "cell_type": "code",
      "source": [
        "from google.colab import drive\n",
        "drive.mount('/content/drive')"
      ],
      "metadata": {
        "colab": {
          "base_uri": "https://localhost:8080/"
        },
        "id": "-2gMN8rB3jTj",
        "outputId": "8d8cb4bf-107b-496a-8922-059adfbf24b7"
      },
      "execution_count": 58,
      "outputs": [
        {
          "output_type": "stream",
          "name": "stdout",
          "text": [
            "Drive already mounted at /content/drive; to attempt to forcibly remount, call drive.mount(\"/content/drive\", force_remount=True).\n"
          ]
        }
      ]
    },
    {
      "cell_type": "code",
      "source": [
        "import pandas as pd\n",
        "\n",
        "# Cargar los datos de entrenamiento y prueba\n",
        "survey_train = pd.read_csv('/content/drive/MyDrive/Colab Notebooks/Hachathon/Surveydata_train.csv')\n",
        "travel_train = pd.read_csv('/content/drive/MyDrive/Colab Notebooks/Hachathon/Traveldata_train.csv')\n",
        "survey_test = pd.read_csv('/content/drive/MyDrive/Colab Notebooks/Hachathon/Surveydata_test.csv')\n",
        "travel_test = pd.read_csv('/content/drive/MyDrive/Colab Notebooks/Hachathon/Traveldata_test.csv')\n",
        "\n",
        "# Combinar los datos de entrenamiento y prueba usando la columna ID como clave\n",
        "train_data = pd.merge(survey_train, travel_train, on='ID')\n",
        "test_data = pd.merge(survey_test, travel_test, on='ID')\n",
        "\n",
        "# Mostrar las primeras filas de los datos combinados\n",
        "print(train_data.head())\n",
        "print(test_data.head())\n"
      ],
      "metadata": {
        "colab": {
          "base_uri": "https://localhost:8080/"
        },
        "id": "tqvsDxTF7jmp",
        "outputId": "145006fe-f550-45e8-bfc7-64496a52dccb"
      },
      "execution_count": 59,
      "outputs": [
        {
          "output_type": "stream",
          "name": "stdout",
          "text": [
            "         ID  Overall_Experience       Seat_Comfort Seat_Class  \\\n",
            "0  98800001                   0  Needs Improvement  Green Car   \n",
            "1  98800002                   0               Poor   Ordinary   \n",
            "2  98800003                   1  Needs Improvement  Green Car   \n",
            "3  98800004                   0         Acceptable   Ordinary   \n",
            "4  98800005                   1         Acceptable   Ordinary   \n",
            "\n",
            "  Arrival_Time_Convenient           Catering  Platform_Location  \\\n",
            "0               Excellent          Excellent    Very Convenient   \n",
            "1               Excellent               Poor  Needs Improvement   \n",
            "2       Needs Improvement  Needs Improvement  Needs Improvement   \n",
            "3       Needs Improvement                NaN  Needs Improvement   \n",
            "4              Acceptable         Acceptable         Manageable   \n",
            "\n",
            "  Onboard_Wifi_Service Onboard_Entertainment Online_Support  ...  \\\n",
            "0                 Good     Needs Improvement     Acceptable  ...   \n",
            "1                 Good                  Poor           Good  ...   \n",
            "2    Needs Improvement                  Good      Excellent  ...   \n",
            "3           Acceptable     Needs Improvement     Acceptable  ...   \n",
            "4    Needs Improvement                  Good      Excellent  ...   \n",
            "\n",
            "         Cleanliness Online_Boarding  Gender   Customer_Type   Age  \\\n",
            "0  Needs Improvement            Poor  Female  Loyal Customer  52.0   \n",
            "1               Good            Good    Male  Loyal Customer  48.0   \n",
            "2          Excellent       Excellent  Female  Loyal Customer  43.0   \n",
            "3         Acceptable      Acceptable  Female  Loyal Customer  44.0   \n",
            "4               Good            Good  Female  Loyal Customer  50.0   \n",
            "\n",
            "       Type_Travel Travel_Class Travel_Distance Departure_Delay_in_Mins  \\\n",
            "0              NaN     Business             272                     0.0   \n",
            "1  Personal Travel          Eco            2200                     9.0   \n",
            "2  Business Travel     Business            1061                    77.0   \n",
            "3  Business Travel     Business             780                    13.0   \n",
            "4  Business Travel     Business            1981                     0.0   \n",
            "\n",
            "   Arrival_Delay_in_Mins  \n",
            "0                    5.0  \n",
            "1                    0.0  \n",
            "2                  119.0  \n",
            "3                   18.0  \n",
            "4                    0.0  \n",
            "\n",
            "[5 rows x 25 columns]\n",
            "         ID    Seat_Comfort Seat_Class Arrival_Time_Convenient    Catering  \\\n",
            "0  99900001      Acceptable  Green Car              Acceptable  Acceptable   \n",
            "1  99900002  Extremely Poor   Ordinary                    Good        Poor   \n",
            "2  99900003       Excellent   Ordinary               Excellent   Excellent   \n",
            "3  99900004      Acceptable  Green Car               Excellent  Acceptable   \n",
            "4  99900005       Excellent   Ordinary          Extremely Poor   Excellent   \n",
            "\n",
            "   Platform_Location Onboard_Wifi_Service Onboard_Entertainment  \\\n",
            "0         Manageable    Needs Improvement             Excellent   \n",
            "1         Manageable           Acceptable                  Poor   \n",
            "2    Very Convenient            Excellent             Excellent   \n",
            "3    Very Convenient                 Poor            Acceptable   \n",
            "4  Needs Improvement            Excellent             Excellent   \n",
            "\n",
            "  Online_Support Ease_of_Online_Booking  ...        Cleanliness  \\\n",
            "0           Good              Excellent  ...          Excellent   \n",
            "1     Acceptable             Acceptable  ...          Excellent   \n",
            "2      Excellent      Needs Improvement  ...  Needs Improvement   \n",
            "3      Excellent                   Poor  ...          Excellent   \n",
            "4      Excellent              Excellent  ...          Excellent   \n",
            "\n",
            "  Online_Boarding  Gender      Customer_Type   Age      Type_Travel  \\\n",
            "0            Poor  Female                NaN  36.0  Business Travel   \n",
            "1      Acceptable  Female  Disloyal Customer  21.0  Business Travel   \n",
            "2       Excellent    Male     Loyal Customer  60.0  Business Travel   \n",
            "3            Poor  Female     Loyal Customer  29.0  Personal Travel   \n",
            "4       Excellent    Male  Disloyal Customer  18.0  Business Travel   \n",
            "\n",
            "  Travel_Class Travel_Distance  Departure_Delay_in_Mins Arrival_Delay_in_Mins  \n",
            "0     Business             532                      0.0                   0.0  \n",
            "1     Business            1425                      9.0                  28.0  \n",
            "2     Business            2832                      0.0                   0.0  \n",
            "3          Eco            1352                      0.0                   0.0  \n",
            "4     Business            1610                     17.0                   0.0  \n",
            "\n",
            "[5 rows x 24 columns]\n"
          ]
        }
      ]
    },
    {
      "cell_type": "code",
      "source": [
        "from sklearn.preprocessing import StandardScaler, OrdinalEncoder\n",
        "from sklearn.impute import SimpleImputer\n",
        "\n",
        "# Imputar valores faltantes para variables numéricas y categóricas\n",
        "num_imputer = SimpleImputer(strategy='median')\n",
        "cat_imputer = SimpleImputer(strategy='most_frequent')\n",
        "\n",
        "# Listar columnas numéricas y categóricas\n",
        "num_cols = train_data.select_dtypes(include=['float64', 'int64']).columns.drop('Overall_Experience')\n",
        "cat_cols = train_data.select_dtypes(include=['object']).columns\n",
        "\n",
        "# Ajustar imputadores solo a las columnas correctas\n",
        "num_imputer.fit(train_data[num_cols])\n",
        "cat_imputer.fit(train_data[cat_cols])\n",
        "\n",
        "# Imputar valores faltantes en los datos de entrenamiento\n",
        "train_data[num_cols] = num_imputer.transform(train_data[num_cols])\n",
        "train_data[cat_cols] = cat_imputer.transform(train_data[cat_cols])\n",
        "\n",
        "# Codificar variables categóricas con un codificador personalizado\n",
        "class CustomLabelEncoder:\n",
        "    def __init__(self):\n",
        "        self.encoder = OrdinalEncoder(handle_unknown='use_encoded_value', unknown_value=-1)\n",
        "\n",
        "    def fit(self, data):\n",
        "        self.encoder.fit(data)\n",
        "\n",
        "    def transform(self, data):\n",
        "        return self.encoder.transform(data)\n",
        "\n",
        "    def fit_transform(self, data):\n",
        "        self.encoder.fit(data)\n",
        "        return self.encoder.transform(data)\n",
        "\n",
        "custom_encoders = {}\n",
        "for col in cat_cols:\n",
        "    custom_encoders[col] = CustomLabelEncoder()\n",
        "    train_data[col] = custom_encoders[col].fit_transform(train_data[[col]])\n",
        "\n",
        "# Escalar características numéricas\n",
        "scaler = StandardScaler()\n",
        "scaler.fit(train_data[num_cols])\n",
        "train_data[num_cols] = scaler.transform(train_data[num_cols])\n",
        "\n",
        "# Mostrar las primeras filas de los datos preprocesados de entrenamiento\n",
        "print(train_data.head())\n"
      ],
      "metadata": {
        "colab": {
          "base_uri": "https://localhost:8080/"
        },
        "id": "4tvd4rgF75eU",
        "outputId": "a54c50f5-3e63-4f6b-d263-c85653d3133c"
      },
      "execution_count": 60,
      "outputs": [
        {
          "output_type": "stream",
          "name": "stdout",
          "text": [
            "         ID  Overall_Experience  Seat_Comfort  Seat_Class  \\\n",
            "0 -1.732032                   0           4.0         0.0   \n",
            "1 -1.731996                   0           5.0         1.0   \n",
            "2 -1.731959                   1           4.0         0.0   \n",
            "3 -1.731922                   0           0.0         1.0   \n",
            "4 -1.731886                   1           0.0         1.0   \n",
            "\n",
            "   Arrival_Time_Convenient  Catering  Platform_Location  Onboard_Wifi_Service  \\\n",
            "0                      1.0       1.0                4.0                   3.0   \n",
            "1                      1.0       5.0                3.0                   3.0   \n",
            "2                      4.0       4.0                3.0                   4.0   \n",
            "3                      4.0       0.0                3.0                   0.0   \n",
            "4                      0.0       0.0                2.0                   4.0   \n",
            "\n",
            "   Onboard_Entertainment  Online_Support  ...  Cleanliness  Online_Boarding  \\\n",
            "0                    4.0             0.0  ...          4.0              5.0   \n",
            "1                    5.0             3.0  ...          3.0              3.0   \n",
            "2                    3.0             1.0  ...          1.0              1.0   \n",
            "3                    4.0             0.0  ...          0.0              0.0   \n",
            "4                    3.0             1.0  ...          3.0              3.0   \n",
            "\n",
            "   Gender  Customer_Type       Age  Type_Travel  Travel_Class  \\\n",
            "0     0.0            1.0  0.832356          0.0           0.0   \n",
            "1     1.0            1.0  0.567699          1.0           1.0   \n",
            "2     0.0            1.0  0.236878          0.0           0.0   \n",
            "3     0.0            1.0  0.303042          0.0           0.0   \n",
            "4     0.0            1.0  0.700027          0.0           0.0   \n",
            "\n",
            "   Travel_Distance  Departure_Delay_in_Mins  Arrival_Delay_in_Mins  \n",
            "0        -1.660469                -0.383916              -0.259227  \n",
            "1         0.215099                -0.147874              -0.389511  \n",
            "2        -0.892926                 1.635557               2.711265  \n",
            "3        -1.166284                -0.042966               0.079514  \n",
            "4         0.002054                -0.383916              -0.389511  \n",
            "\n",
            "[5 rows x 25 columns]\n"
          ]
        }
      ]
    },
    {
      "cell_type": "code",
      "source": [
        "# Guardar los IDs originales\n",
        "test_ids = test_data['ID']\n",
        "\n",
        "# Imputar y codificar variables categóricas en los datos de prueba\n",
        "test_data[num_cols] = num_imputer.transform(test_data[num_cols])\n",
        "test_data[cat_cols] = cat_imputer.transform(test_data[cat_cols])\n",
        "for col in cat_cols:\n",
        "    test_data[col] = custom_encoders[col].transform(test_data[[col]])\n",
        "\n",
        "# Reemplazar valores -1 en las columnas categóricas por la moda de cada columna\n",
        "for col in cat_cols:\n",
        "    mode_value = train_data[col].mode()[0]\n",
        "    test_data[col] = test_data[col].replace(-1, mode_value)\n",
        "\n",
        "# Escalar características numéricas en los datos de prueba\n",
        "test_data[num_cols] = scaler.transform(test_data[num_cols])\n",
        "\n",
        "# Mostrar las primeras filas de los datos preprocesados de prueba\n",
        "print(test_data.head())\n"
      ],
      "metadata": {
        "colab": {
          "base_uri": "https://localhost:8080/"
        },
        "id": "lAMmyhFy78Ud",
        "outputId": "2400aa6b-4280-4ca7-fa2e-938ed57aae46"
      },
      "execution_count": 61,
      "outputs": [
        {
          "output_type": "stream",
          "name": "stdout",
          "text": [
            "          ID  Seat_Comfort  Seat_Class  Arrival_Time_Convenient  Catering  \\\n",
            "0  38.642540           0.0         0.0                      0.0       0.0   \n",
            "1  38.642577           2.0         1.0                      3.0       5.0   \n",
            "2  38.642613           1.0         1.0                      1.0       1.0   \n",
            "3  38.642650           0.0         0.0                      1.0       0.0   \n",
            "4  38.642687           1.0         1.0                      2.0       1.0   \n",
            "\n",
            "   Platform_Location  Onboard_Wifi_Service  Onboard_Entertainment  \\\n",
            "0                2.0                   4.0                    1.0   \n",
            "1                2.0                   0.0                    5.0   \n",
            "2                4.0                   1.0                    1.0   \n",
            "3                4.0                   5.0                    0.0   \n",
            "4                3.0                   1.0                    1.0   \n",
            "\n",
            "   Online_Support  Ease_of_Online_Booking  ...  Cleanliness  Online_Boarding  \\\n",
            "0             3.0                     1.0  ...          1.0              5.0   \n",
            "1             0.0                     0.0  ...          1.0              0.0   \n",
            "2             1.0                     4.0  ...          4.0              1.0   \n",
            "3             1.0                     5.0  ...          1.0              5.0   \n",
            "4             1.0                     1.0  ...          1.0              1.0   \n",
            "\n",
            "   Gender  Customer_Type       Age  Type_Travel  Travel_Class  \\\n",
            "0     0.0            1.0 -0.226272          0.0           0.0   \n",
            "1     0.0            0.0 -1.218735          0.0           0.0   \n",
            "2     1.0            1.0  1.361669          0.0           0.0   \n",
            "3     0.0            1.0 -0.689421          1.0           1.0   \n",
            "4     1.0            0.0 -1.417227          0.0           0.0   \n",
            "\n",
            "   Travel_Distance  Departure_Delay_in_Mins  Arrival_Delay_in_Mins  \n",
            "0        -1.407540                -0.383916              -0.389511  \n",
            "1        -0.538825                -0.147874               0.340083  \n",
            "2         0.829911                -0.383916              -0.389511  \n",
            "3        -0.609840                -0.383916              -0.389511  \n",
            "4        -0.358856                 0.061942              -0.389511  \n",
            "\n",
            "[5 rows x 24 columns]\n"
          ]
        }
      ]
    },
    {
      "cell_type": "code",
      "source": [
        "from xgboost import XGBClassifier\n",
        "from sklearn.model_selection import RandomizedSearchCV\n",
        "\n",
        "# Definir el modelo de XGBoost\n",
        "xgb_model = XGBClassifier(random_state=42, use_label_encoder=False, eval_metric='logloss')\n",
        "\n",
        "# Definir la rejilla de parámetros para el ajuste de hiperparámetros\n",
        "param_dist = {\n",
        "    'n_estimators': [312, 362, 413],\n",
        "    'max_depth': [11, 14, 17],\n",
        "    'learning_rate': [0.036, 0.035, 0.05],\n",
        "    'subsample': [0.98, 0.11, 0.115, 1.3],\n",
        "    'colsample_bytree': [0.3, 0.35, 0.4, 0.6],\n",
        "    'gamma': [0.2, 0.3, 0.45],\n",
        "    'reg_alpha': [0.9, 0.95, 1.4],\n",
        "    'reg_lambda': [1.5, 2.2, 2.7]\n",
        "}\n",
        "X = train_data.drop(columns=['Overall_Experience', 'ID'])\n",
        "y = train_data['Overall_Experience']\n",
        "\n",
        "# Configurar RandomizedSearchCV\n",
        "random_search = RandomizedSearchCV(estimator=xgb_model, param_distributions=param_dist, n_iter=50, cv=3, n_jobs=-1, verbose=2, random_state=42)\n",
        "\n",
        "# Ajustar RandomizedSearchCV al conjunto de datos\n",
        "random_search.fit(X, y)\n",
        "\n",
        "# Mejor combinación de parámetros\n",
        "best_params = random_search.best_params_\n",
        "print(\"Mejores parámetros:\", best_params)\n",
        "\n",
        "# Entrenar el modelo optimizado\n",
        "optimized_xgb_model = XGBClassifier(**best_params, random_state=42, use_label_encoder=False, eval_metric='logloss')\n",
        "optimized_xgb_model.fit(X, y)\n",
        "\n",
        "# Generar predicciones en los datos de prueba\n",
        "X_test = test_data.drop(columns=['ID'])\n",
        "test_data['Overall_Experience'] = optimized_xgb_model.predict(X_test)\n",
        "\n",
        "# Crear el archivo de envío con los IDs originales\n",
        "submission = pd.DataFrame({'ID': test_ids, 'Overall_Experience': test_data['Overall_Experience'].astype(int)})\n",
        "submission.to_csv('submission_final_xgb.csv', index=False)\n",
        "\n",
        "# Mostrar las primeras filas del archivo de envío\n",
        "print(submission.head())\n"
      ],
      "metadata": {
        "colab": {
          "base_uri": "https://localhost:8080/"
        },
        "id": "sOxdhIyX_b50",
        "outputId": "a40f551b-7e91-4ff1-8306-2335d537c390"
      },
      "execution_count": 62,
      "outputs": [
        {
          "output_type": "stream",
          "name": "stdout",
          "text": [
            "Fitting 3 folds for each of 50 candidates, totalling 150 fits\n"
          ]
        },
        {
          "output_type": "stream",
          "name": "stderr",
          "text": [
            "/usr/local/lib/python3.10/dist-packages/sklearn/model_selection/_validation.py:378: FitFailedWarning: \n",
            "39 fits failed out of a total of 150.\n",
            "The score on these train-test partitions for these parameters will be set to nan.\n",
            "If these failures are not expected, you can try to debug them by setting error_score='raise'.\n",
            "\n",
            "Below are more details about the failures:\n",
            "--------------------------------------------------------------------------------\n",
            "39 fits failed with the following error:\n",
            "Traceback (most recent call last):\n",
            "  File \"/usr/local/lib/python3.10/dist-packages/sklearn/model_selection/_validation.py\", line 686, in _fit_and_score\n",
            "    estimator.fit(X_train, y_train, **fit_params)\n",
            "  File \"/usr/local/lib/python3.10/dist-packages/xgboost/core.py\", line 730, in inner_f\n",
            "    return func(**kwargs)\n",
            "  File \"/usr/local/lib/python3.10/dist-packages/xgboost/sklearn.py\", line 1519, in fit\n",
            "    self._Booster = train(\n",
            "  File \"/usr/local/lib/python3.10/dist-packages/xgboost/core.py\", line 730, in inner_f\n",
            "    return func(**kwargs)\n",
            "  File \"/usr/local/lib/python3.10/dist-packages/xgboost/training.py\", line 181, in train\n",
            "    bst.update(dtrain, i, obj)\n",
            "  File \"/usr/local/lib/python3.10/dist-packages/xgboost/core.py\", line 2050, in update\n",
            "    _check_call(\n",
            "  File \"/usr/local/lib/python3.10/dist-packages/xgboost/core.py\", line 282, in _check_call\n",
            "    raise XGBoostError(py_str(_LIB.XGBGetLastError()))\n",
            "xgboost.core.XGBoostError: value 1.3 for Parameter subsample exceed bound [0,1]\n",
            "subsample: Row subsample ratio of training instance.\n",
            "\n",
            "  warnings.warn(some_fits_failed_message, FitFailedWarning)\n",
            "/usr/local/lib/python3.10/dist-packages/sklearn/model_selection/_search.py:952: UserWarning: One or more of the test scores are non-finite: [0.94181968 0.94958625 0.94220113        nan 0.95396223 0.94316532\n",
            " 0.94303817 0.93599212 0.9417667  0.94294281 0.95365495        nan\n",
            "        nan 0.94264614 0.94026214 0.93991249        nan 0.94399178\n",
            " 0.93762383        nan        nan 0.95230931 0.94790156        nan\n",
            " 0.94304878 0.95226693 0.95388805 0.94377987 0.94557051 0.94016678\n",
            " 0.94426726        nan        nan        nan 0.94480763 0.93941449\n",
            " 0.93872577 0.94268853 0.94380106        nan 0.94408714        nan\n",
            " 0.94524206 0.94548575 0.95193847 0.94210577 0.94518907 0.95360196\n",
            " 0.94188326        nan]\n",
            "  warnings.warn(\n"
          ]
        },
        {
          "output_type": "stream",
          "name": "stdout",
          "text": [
            "Mejores parámetros: {'subsample': 0.98, 'reg_lambda': 2.2, 'reg_alpha': 0.95, 'n_estimators': 362, 'max_depth': 17, 'learning_rate': 0.035, 'gamma': 0.45, 'colsample_bytree': 0.6}\n",
            "         ID  Overall_Experience\n",
            "0  99900001                   1\n",
            "1  99900002                   1\n",
            "2  99900003                   1\n",
            "3  99900004                   0\n",
            "4  99900005                   1\n"
          ]
        }
      ]
    },
    {
      "cell_type": "code",
      "source": [
        "from google.colab import files\n",
        "\n",
        "# Asegúrate de que el nombre del archivo y la ruta sean correctos\n",
        "files.download('submission_final_xgb.csv')"
      ],
      "metadata": {
        "colab": {
          "base_uri": "https://localhost:8080/",
          "height": 17
        },
        "id": "Rq2awM_15Vsq",
        "outputId": "5636c32f-8b42-4aa6-806c-d2c8945c64f6"
      },
      "execution_count": 56,
      "outputs": [
        {
          "output_type": "display_data",
          "data": {
            "text/plain": [
              "<IPython.core.display.Javascript object>"
            ],
            "application/javascript": [
              "\n",
              "    async function download(id, filename, size) {\n",
              "      if (!google.colab.kernel.accessAllowed) {\n",
              "        return;\n",
              "      }\n",
              "      const div = document.createElement('div');\n",
              "      const label = document.createElement('label');\n",
              "      label.textContent = `Downloading \"${filename}\": `;\n",
              "      div.appendChild(label);\n",
              "      const progress = document.createElement('progress');\n",
              "      progress.max = size;\n",
              "      div.appendChild(progress);\n",
              "      document.body.appendChild(div);\n",
              "\n",
              "      const buffers = [];\n",
              "      let downloaded = 0;\n",
              "\n",
              "      const channel = await google.colab.kernel.comms.open(id);\n",
              "      // Send a message to notify the kernel that we're ready.\n",
              "      channel.send({})\n",
              "\n",
              "      for await (const message of channel.messages) {\n",
              "        // Send a message to notify the kernel that we're ready.\n",
              "        channel.send({})\n",
              "        if (message.buffers) {\n",
              "          for (const buffer of message.buffers) {\n",
              "            buffers.push(buffer);\n",
              "            downloaded += buffer.byteLength;\n",
              "            progress.value = downloaded;\n",
              "          }\n",
              "        }\n",
              "      }\n",
              "      const blob = new Blob(buffers, {type: 'application/binary'});\n",
              "      const a = document.createElement('a');\n",
              "      a.href = window.URL.createObjectURL(blob);\n",
              "      a.download = filename;\n",
              "      div.appendChild(a);\n",
              "      a.click();\n",
              "      div.remove();\n",
              "    }\n",
              "  "
            ]
          },
          "metadata": {}
        },
        {
          "output_type": "display_data",
          "data": {
            "text/plain": [
              "<IPython.core.display.Javascript object>"
            ],
            "application/javascript": [
              "download(\"download_149109e6-6dcb-4a9a-bb6a-ef96cec0e435\", \"submission_final_xgb.csv\", 391644)"
            ]
          },
          "metadata": {}
        }
      ]
    }
  ]
}